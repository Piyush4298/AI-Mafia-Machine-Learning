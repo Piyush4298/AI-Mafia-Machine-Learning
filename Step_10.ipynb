{
 "cells": [
  {
   "cell_type": "markdown",
   "metadata": {},
   "source": [
    "# Sending Email through Python"
   ]
  },
  {
   "cell_type": "code",
   "execution_count": 9,
   "metadata": {},
   "outputs": [],
   "source": [
    "import smtplib as sl\n",
    "import getpass as gp\n",
    "from email.mime.text import MIMEText"
   ]
  },
  {
   "cell_type": "code",
   "execution_count": 7,
   "metadata": {},
   "outputs": [],
   "source": [
    "def send_email():\n",
    "    senders_add = 'piyushpande0405@gmail.com'\n",
    "    password = gp.getpass()\n",
    "    subject = \"Learn Inspire Grow\"\n",
    "    msg = '''\n",
    "        Hello World! This is Piyush Pandey\n",
    "        Using SMTPLIB from python to send this email.\n",
    "    '''\n",
    "    server = sl.SMTP('smtp.gmail.com',587)\n",
    "    server.starttls()\n",
    "    server.login(senders_add,password)\n",
    "    msg = MIMEText(msg)\n",
    "    msg['Subject'] =  subject\n",
    "    msg['From'] = senders_add\n",
    "    msg['To'] = 'pp099678@gmail.com'\n",
    "    recipient = 'pp099678@gmail.com'\n",
    "    \n",
    "    server.sendmail(senders_add, recipient, msg.as_string())"
   ]
  },
  {
   "cell_type": "code",
   "execution_count": 8,
   "metadata": {},
   "outputs": [
    {
     "name": "stdout",
     "output_type": "stream",
     "text": [
      "········\n"
     ]
    }
   ],
   "source": [
    "send_email()"
   ]
  },
  {
   "cell_type": "markdown",
   "metadata": {},
   "source": [
    "# Web Scraping using Python"
   ]
  },
  {
   "cell_type": "code",
   "execution_count": 28,
   "metadata": {},
   "outputs": [],
   "source": [
    "from bs4 import BeautifulSoup\n",
    "import requests\n",
    "import pandas as pd"
   ]
  },
  {
   "cell_type": "code",
   "execution_count": 11,
   "metadata": {},
   "outputs": [],
   "source": [
    "url = \"https://en.wikipedia.org/wiki/Python_%28programming_language%29\""
   ]
  },
  {
   "cell_type": "code",
   "execution_count": 15,
   "metadata": {},
   "outputs": [],
   "source": [
    "#1. Call API server using requests modules\n",
    "results = requests.get(url)\n",
    "soup = BeautifulSoup(results.content, 'html.parser')"
   ]
  },
  {
   "cell_type": "code",
   "execution_count": 52,
   "metadata": {},
   "outputs": [],
   "source": [
    "content = soup.find('table',class_= 'infobox vevent')\n",
    "info = {}\n",
    "rows = content.find_all('tr')\n",
    "for row in rows:\n",
    "    if row.find(scope='row'):\n",
    "        head = row.find('th')\n",
    "        data = row.find('td')\n",
    "    info[head] = data"
   ]
  },
  {
   "cell_type": "code",
   "execution_count": 54,
   "metadata": {},
   "outputs": [
    {
     "name": "stdout",
     "output_type": "stream",
     "text": [
      "Website: www.python.org\n",
      "Paradigm: Multi-paradigm: functional, imperative, object-oriented, structured, reflective\n",
      "Designed by: Guido van Rossum\n",
      "Developer: Python Software Foundation\n",
      "First appeared: 1990; 30 years ago (1990)[1]\n",
      "Stable release: 3.8.5\n",
      "   / 20 July 2020; 59 days ago (2020-07-20)[2]\n",
      "Preview release: 3.9.0rc1\n",
      "   / 11 August 2020; 37 days ago (2020-08-11)[3]\n",
      "Typing discipline: Duck, dynamic, gradual (since 3.5)[4]\n",
      "OS: Linux, macOS, Windows Vista (and newer) and more\n",
      "License: Python Software Foundation License\n",
      "Filename extensions: .py, .pyi, .pyc, .pyd, .pyo (prior to 3.5),[5] .pyw, .pyz (since 3.5)[6]\n"
     ]
    }
   ],
   "source": [
    "for i,j in info.items():\n",
    "    print('{0}: {1}'.format(i.text,j.text))"
   ]
  },
  {
   "cell_type": "code",
   "execution_count": null,
   "metadata": {},
   "outputs": [],
   "source": []
  },
  {
   "cell_type": "code",
   "execution_count": null,
   "metadata": {},
   "outputs": [],
   "source": []
  }
 ],
 "metadata": {
  "kernelspec": {
   "display_name": "Python 3",
   "language": "python",
   "name": "python3"
  },
  "language_info": {
   "codemirror_mode": {
    "name": "ipython",
    "version": 3
   },
   "file_extension": ".py",
   "mimetype": "text/x-python",
   "name": "python",
   "nbconvert_exporter": "python",
   "pygments_lexer": "ipython3",
   "version": "3.8.3"
  }
 },
 "nbformat": 4,
 "nbformat_minor": 4
}
