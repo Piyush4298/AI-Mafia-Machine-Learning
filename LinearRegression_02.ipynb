{
 "cells": [
  {
   "cell_type": "code",
   "execution_count": 1,
   "metadata": {},
   "outputs": [],
   "source": [
    "import numpy as np\n",
    "import pandas as pd\n",
    "import matplotlib.pyplot as plt"
   ]
  },
  {
   "cell_type": "code",
   "execution_count": 8,
   "metadata": {},
   "outputs": [
    {
     "name": "stdout",
     "output_type": "stream",
     "text": [
      "[[ 8. ]\n",
      " [ 9.1]\n",
      " [ 8.4]\n",
      " [ 6.9]\n",
      " [ 7.7]\n",
      " [15.6]\n",
      " [ 7.3]\n",
      " [ 7. ]\n",
      " [ 7.2]\n",
      " [10.1]\n",
      " [11.5]\n",
      " [ 7.1]\n",
      " [10. ]\n",
      " [ 8.9]\n",
      " [ 7.9]\n",
      " [ 5.6]\n",
      " [ 6.3]\n",
      " [ 6.7]\n",
      " [10.4]\n",
      " [ 8.5]\n",
      " [ 7.4]\n",
      " [ 6.3]\n",
      " [ 5.4]\n",
      " [ 8.9]\n",
      " [ 9.4]\n",
      " [ 7.5]\n",
      " [11.9]\n",
      " [ 7.8]\n",
      " [ 7.4]\n",
      " [10.8]\n",
      " [10.2]\n",
      " [ 6.2]\n",
      " [ 7.7]\n",
      " [13.7]\n",
      " [ 8. ]\n",
      " [ 6.7]\n",
      " [ 6.7]\n",
      " [ 7. ]\n",
      " [ 8.3]\n",
      " [ 7.4]\n",
      " [ 9.9]\n",
      " [ 6.1]\n",
      " [ 7. ]\n",
      " [ 5.4]\n",
      " [10.7]\n",
      " [ 7.6]\n",
      " [ 8.9]\n",
      " [ 9.2]\n",
      " [ 6.6]\n",
      " [ 7.2]\n",
      " [ 8. ]\n",
      " [ 7.8]\n",
      " [ 7.9]\n",
      " [ 7. ]\n",
      " [ 7. ]\n",
      " [ 7.6]\n",
      " [ 9.1]\n",
      " [ 9. ]\n",
      " [ 7.9]\n",
      " [ 6.6]\n",
      " [11.9]\n",
      " [ 6.5]\n",
      " [ 7.1]\n",
      " [ 8.8]\n",
      " [ 7.5]\n",
      " [ 7.7]\n",
      " [ 6. ]\n",
      " [10.6]\n",
      " [ 6.6]\n",
      " [ 8.2]\n",
      " [ 7.9]\n",
      " [ 7.1]\n",
      " [ 5.6]\n",
      " [ 6.4]\n",
      " [ 7.5]\n",
      " [ 9.8]\n",
      " [ 7. ]\n",
      " [10.5]\n",
      " [ 7.1]\n",
      " [ 6.2]\n",
      " [ 6.5]\n",
      " [ 7.7]\n",
      " [ 7.2]\n",
      " [ 9.3]\n",
      " [ 8.5]\n",
      " [ 7.7]\n",
      " [ 6.8]\n",
      " [ 7.8]\n",
      " [ 8.7]\n",
      " [ 9.6]\n",
      " [ 7.2]\n",
      " [ 9.3]\n",
      " [ 8.1]\n",
      " [ 6.6]\n",
      " [ 7.8]\n",
      " [10.2]\n",
      " [ 6.1]\n",
      " [ 7.3]\n",
      " [ 7.3]]\n",
      "[[0.99007]\n",
      " [0.99769]\n",
      " [0.99386]\n",
      " [0.99508]\n",
      " [0.9963 ]\n",
      " [1.0032 ]\n",
      " [0.99768]\n",
      " [0.99584]\n",
      " [0.99609]\n",
      " [0.99774]\n",
      " [1.0003 ]\n",
      " [0.99694]\n",
      " [0.99965]\n",
      " [0.99549]\n",
      " [0.99364]\n",
      " [0.99378]\n",
      " [0.99379]\n",
      " [0.99524]\n",
      " [0.9988 ]\n",
      " [0.99733]\n",
      " [0.9966 ]\n",
      " [0.9955 ]\n",
      " [0.99471]\n",
      " [0.99354]\n",
      " [0.99786]\n",
      " [0.9965 ]\n",
      " [0.9988 ]\n",
      " [0.9964 ]\n",
      " [0.99713]\n",
      " [0.9985 ]\n",
      " [0.99565]\n",
      " [0.99578]\n",
      " [0.9976 ]\n",
      " [1.0014 ]\n",
      " [0.99685]\n",
      " [0.99648]\n",
      " [0.99472]\n",
      " [0.99914]\n",
      " [0.99408]\n",
      " [0.9974 ]\n",
      " [1.0002 ]\n",
      " [0.99402]\n",
      " [0.9966 ]\n",
      " [0.99402]\n",
      " [1.0029 ]\n",
      " [0.99718]\n",
      " [0.9986 ]\n",
      " [0.9952 ]\n",
      " [0.9952 ]\n",
      " [0.9972 ]\n",
      " [0.9976 ]\n",
      " [0.9968 ]\n",
      " [0.9978 ]\n",
      " [0.9951 ]\n",
      " [0.99629]\n",
      " [0.99656]\n",
      " [0.999  ]\n",
      " [0.99836]\n",
      " [0.99396]\n",
      " [0.99387]\n",
      " [1.0004 ]\n",
      " [0.9972 ]\n",
      " [0.9972 ]\n",
      " [0.99546]\n",
      " [0.9978 ]\n",
      " [0.99596]\n",
      " [0.99572]\n",
      " [0.9992 ]\n",
      " [0.99544]\n",
      " [0.99747]\n",
      " [0.99668]\n",
      " [0.9962 ]\n",
      " [0.99346]\n",
      " [0.99514]\n",
      " [0.99476]\n",
      " [1.001  ]\n",
      " [0.9961 ]\n",
      " [0.99598]\n",
      " [0.99608]\n",
      " [0.9966 ]\n",
      " [0.99732]\n",
      " [0.9962 ]\n",
      " [0.99546]\n",
      " [0.99738]\n",
      " [0.99456]\n",
      " [0.9966 ]\n",
      " [0.99553]\n",
      " [0.9984 ]\n",
      " [0.9952 ]\n",
      " [0.997  ]\n",
      " [0.99586]\n",
      " [0.9984 ]\n",
      " [0.99542]\n",
      " [0.99655]\n",
      " [0.9962 ]\n",
      " [0.9976 ]\n",
      " [0.99464]\n",
      " [0.9983 ]\n",
      " [0.9967 ]]\n"
     ]
    }
   ],
   "source": [
    "# data preparation / data training\n",
    "dfx = pd.read_csv('./data/linearX.csv')\n",
    "dfy = pd.read_csv('./data/linearY.csv')\n",
    "\n",
    "x = dfx.values\n",
    "y = dfy.values\n",
    "x = x.reshape((-1,1))\n",
    "y = y.reshape((-1,1))\n",
    "print(x)\n",
    "print(y)"
   ]
  },
  {
   "cell_type": "code",
   "execution_count": 6,
   "metadata": {},
   "outputs": [
    {
     "data": {
      "image/png": "[encoded data removed]",
      "text/plain": [
       "<Figure size 432x288 with 1 Axes>"
      ]
     },
     "metadata": {
      "needs_background": "light"
     },
     "output_type": "display_data"
    }
   ],
   "source": [
    "plt.scatter(x,y)\n",
    "plt.show()"
   ]
  },
  {
   "cell_type": "code",
   "execution_count": 7,
   "metadata": {},
   "outputs": [],
   "source": [
    "from sklearn.linear_model import LinearRegression"
   ]
  },
  {
   "cell_type": "code",
   "execution_count": 11,
   "metadata": {},
   "outputs": [
    {
     "data": {
      "text/plain": [
       "LinearRegression()"
      ]
     },
     "execution_count": 11,
     "metadata": {},
     "output_type": "execute_result"
    }
   ],
   "source": [
    "model = LinearRegression()\n",
    "# Training \n",
    "model.fit(x,y)"
   ]
  },
  {
   "cell_type": "code",
   "execution_count": 12,
   "metadata": {},
   "outputs": [],
   "source": [
    "output = model.predict(x)"
   ]
  },
  {
   "cell_type": "code",
   "execution_count": 13,
   "metadata": {},
   "outputs": [
    {
     "name": "stdout",
     "output_type": "stream",
     "text": [
      "[0.9903092]\n",
      "[[0.00078556]]\n"
     ]
    }
   ],
   "source": [
    "bias = model.intercept_\n",
    "coeff = model.coef_\n",
    "print(bias)\n",
    "print(coeff)"
   ]
  },
  {
   "cell_type": "code",
   "execution_count": 14,
   "metadata": {},
   "outputs": [
    {
     "data": {
      "text/plain": [
       "0.43818504557920035"
      ]
     },
     "execution_count": 14,
     "metadata": {},
     "output_type": "execute_result"
    }
   ],
   "source": [
    "model.score(x, y)"
   ]
  },
  {
   "cell_type": "code",
   "execution_count": 15,
   "metadata": {},
   "outputs": [
    {
     "data": {
      "image/png": "[encoded data removed]",
      "text/plain": [
       "<Figure size 432x288 with 1 Axes>"
      ]
     },
     "metadata": {
      "needs_background": "light"
     },
     "output_type": "display_data"
    }
   ],
   "source": [
    "plt.scatter(x,y,label ='data')\n",
    "plt.plot(x,output, color='black',label='prediction')\n",
    "plt.legend()\n",
    "plt.show()"
   ]
  },
  {
   "cell_type": "code",
   "execution_count": null,
   "metadata": {},
   "outputs": [],
   "source": []
  }
 ],
 "metadata": {
  "kernelspec": {
   "display_name": "Python 3",
   "language": "python",
   "name": "python3"
  },
  "language_info": {
   "codemirror_mode": {
    "name": "ipython",
    "version": 3
   },
   "file_extension": ".py",
   "mimetype": "text/x-python",
   "name": "python",
   "nbconvert_exporter": "python",
   "pygments_lexer": "ipython3",
   "version": "3.8.3"
  }
 },
 "nbformat": 4,
 "nbformat_minor": 4
}
